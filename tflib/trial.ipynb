{
 "cells": [
  {
   "cell_type": "code",
   "execution_count": 53,
   "metadata": {},
   "outputs": [],
   "source": [
    "import os, sys\n",
    "sys.path.append(os.getcwd())\n",
    "\n",
    "from PIL import Image\n",
    "import random\n",
    "import time\n",
    "\n",
    "import matplotlib\n",
    "matplotlib.use('Agg')\n",
    "import matplotlib.pyplot as plt\n",
    "import numpy as np\n",
    "import sklearn.datasets\n",
    "\n",
    "import torch\n",
    "import torch.autograd as autograd\n",
    "import torch.nn as nn\n",
    "import torch.nn.functional as F\n",
    "import torch.optim as optim\n",
    "from torch.utils import data\n",
    "from torchvision import transforms as T\n",
    "from torchvision.datasets import ImageFolder"
   ]
  },
  {
   "cell_type": "code",
   "execution_count": 49,
   "metadata": {},
   "outputs": [],
   "source": [
    "class Dataset():\n",
    "    def __init__(self,mode):\n",
    "        path = 'F:\\\\torch_projects\\\\data\\\\Retinal\\\\train.txt' if mode=='train' else 'F:\\\\torch_projects\\\\data\\\\Retinal\\\\train.txt'\n",
    "        self.data = []\n",
    "        transform = []\n",
    "        transform.append(T.CenterCrop(560))\n",
    "        transform.append(T.Resize(500))\n",
    "        transform.append(T.ToTensor())\n",
    "        transform = T.Compose(transform)\n",
    "        with open(path, 'r') as file_to_read:\n",
    "            while(1):\n",
    "                line = file_to_read.readline() # 整行读取数据\n",
    "                if not line:\n",
    "                    break\n",
    "                image = Image.open('F:\\\\torch_projects\\\\data\\\\Retinal\\\\'+line.strip('\\n'))\n",
    "                self.data.append(transform(image))\n",
    "    \n",
    "    def __getitem__(self, index):\n",
    "        return self.data[index]\n",
    "\n",
    "    def __len__(self):\n",
    "        return len(self.data)"
   ]
  },
  {
   "cell_type": "code",
   "execution_count": 54,
   "metadata": {},
   "outputs": [],
   "source": [
    "train_loader = data.DataLoader(dataset=Dataset('train'),\n",
    "                          batch_size=1,\n",
    "                          shuffle=True)"
   ]
  },
  {
   "cell_type": "code",
   "execution_count": null,
   "metadata": {},
   "outputs": [],
   "source": []
  }
 ],
 "metadata": {
  "kernelspec": {
   "display_name": "Python 3",
   "language": "python",
   "name": "python3"
  },
  "language_info": {
   "codemirror_mode": {
    "name": "ipython",
    "version": 3
   },
   "file_extension": ".py",
   "mimetype": "text/x-python",
   "name": "python",
   "nbconvert_exporter": "python",
   "pygments_lexer": "ipython3",
   "version": "3.6.2"
  }
 },
 "nbformat": 4,
 "nbformat_minor": 2
}
